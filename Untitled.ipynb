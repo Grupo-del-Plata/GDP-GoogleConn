{
 "cells": [
  {
   "cell_type": "code",
   "execution_count": 1,
   "id": "4a995fd5-2884-40b2-a659-c80f2f5663b2",
   "metadata": {},
   "outputs": [
    {
     "name": "stdout",
     "output_type": "stream",
     "text": [
      "Processing c:\\users\\jsaul\\desktop\\gdp-trabajo-matiasgleser\\trabajo\\github\\gdp-googleconnector\\gdp-googleconnector\n",
      "  Preparing metadata (setup.py): started\n",
      "  Preparing metadata (setup.py): finished with status 'done'\n",
      "Requirement already satisfied: google-api-python-client>=2.0.0 in c:\\users\\jsaul\\anaconda3\\lib\\site-packages (from GDPGoogleConnector==0.2.0) (2.119.0)\n",
      "Requirement already satisfied: google-auth-httplib2>=0.1.0 in c:\\users\\jsaul\\anaconda3\\lib\\site-packages (from GDPGoogleConnector==0.2.0) (0.2.0)\n",
      "Requirement already satisfied: google-auth-oauthlib>=0.5.0 in c:\\users\\jsaul\\anaconda3\\lib\\site-packages (from GDPGoogleConnector==0.2.0) (1.2.0)\n",
      "Requirement already satisfied: google-api-core!=2.0.*,!=2.1.*,!=2.2.*,!=2.3.0,<3.0.0.dev0,>=1.31.5 in c:\\users\\jsaul\\anaconda3\\lib\\site-packages (from google-api-python-client>=2.0.0->GDPGoogleConnector==0.2.0) (2.11.1)\n",
      "Requirement already satisfied: google-auth<3.0.0.dev0,>=1.19.0 in c:\\users\\jsaul\\anaconda3\\lib\\site-packages (from google-api-python-client>=2.0.0->GDPGoogleConnector==0.2.0) (2.28.1)\n",
      "Requirement already satisfied: uritemplate<5,>=3.0.1 in c:\\users\\jsaul\\anaconda3\\lib\\site-packages (from google-api-python-client>=2.0.0->GDPGoogleConnector==0.2.0) (4.1.1)\n",
      "Requirement already satisfied: httplib2<1.dev0,>=0.15.0 in c:\\users\\jsaul\\anaconda3\\lib\\site-packages (from google-api-python-client>=2.0.0->GDPGoogleConnector==0.2.0) (0.22.0)\n",
      "Requirement already satisfied: requests-oauthlib>=0.7.0 in c:\\users\\jsaul\\anaconda3\\lib\\site-packages (from google-auth-oauthlib>=0.5.0->GDPGoogleConnector==0.2.0) (1.3.1)\n",
      "Requirement already satisfied: googleapis-common-protos<2.0.dev0,>=1.56.2 in c:\\users\\jsaul\\anaconda3\\lib\\site-packages (from google-api-core!=2.0.*,!=2.1.*,!=2.2.*,!=2.3.0,<3.0.0.dev0,>=1.31.5->google-api-python-client>=2.0.0->GDPGoogleConnector==0.2.0) (1.60.0)\n",
      "Requirement already satisfied: protobuf!=3.20.0,!=3.20.1,!=4.21.0,!=4.21.1,!=4.21.2,!=4.21.3,!=4.21.4,!=4.21.5,<5.0.0.dev0,>=3.19.5 in c:\\users\\jsaul\\anaconda3\\lib\\site-packages (from google-api-core!=2.0.*,!=2.1.*,!=2.2.*,!=2.3.0,<3.0.0.dev0,>=1.31.5->google-api-python-client>=2.0.0->GDPGoogleConnector==0.2.0) (4.24.2)\n",
      "Requirement already satisfied: requests<3.0.0.dev0,>=2.18.0 in c:\\users\\jsaul\\anaconda3\\lib\\site-packages (from google-api-core!=2.0.*,!=2.1.*,!=2.2.*,!=2.3.0,<3.0.0.dev0,>=1.31.5->google-api-python-client>=2.0.0->GDPGoogleConnector==0.2.0) (2.32.3)\n",
      "Requirement already satisfied: rsa<5,>=3.1.4 in c:\\users\\jsaul\\anaconda3\\lib\\site-packages (from google-auth<3.0.0.dev0,>=1.19.0->google-api-python-client>=2.0.0->GDPGoogleConnector==0.2.0) (4.9)\n",
      "Requirement already satisfied: cachetools<6.0,>=2.0.0 in c:\\users\\jsaul\\appdata\\roaming\\python\\python39\\site-packages (from google-auth<3.0.0.dev0,>=1.19.0->google-api-python-client>=2.0.0->GDPGoogleConnector==0.2.0) (5.3.1)\n",
      "Requirement already satisfied: pyasn1-modules>=0.2.1 in c:\\users\\jsaul\\anaconda3\\lib\\site-packages (from google-auth<3.0.0.dev0,>=1.19.0->google-api-python-client>=2.0.0->GDPGoogleConnector==0.2.0) (0.2.8)\n",
      "Requirement already satisfied: pyparsing!=3.0.0,!=3.0.1,!=3.0.2,!=3.0.3,<4,>=2.4.2 in c:\\users\\jsaul\\anaconda3\\lib\\site-packages (from httplib2<1.dev0,>=0.15.0->google-api-python-client>=2.0.0->GDPGoogleConnector==0.2.0) (3.0.9)\n",
      "Requirement already satisfied: oauthlib>=3.0.0 in c:\\users\\jsaul\\anaconda3\\lib\\site-packages (from requests-oauthlib>=0.7.0->google-auth-oauthlib>=0.5.0->GDPGoogleConnector==0.2.0) (3.2.2)\n",
      "Requirement already satisfied: pyasn1<0.5.0,>=0.4.6 in c:\\users\\jsaul\\anaconda3\\lib\\site-packages (from pyasn1-modules>=0.2.1->google-auth<3.0.0.dev0,>=1.19.0->google-api-python-client>=2.0.0->GDPGoogleConnector==0.2.0) (0.4.8)\n",
      "Requirement already satisfied: charset-normalizer<4,>=2 in c:\\users\\jsaul\\anaconda3\\lib\\site-packages (from requests<3.0.0.dev0,>=2.18.0->google-api-core!=2.0.*,!=2.1.*,!=2.2.*,!=2.3.0,<3.0.0.dev0,>=1.31.5->google-api-python-client>=2.0.0->GDPGoogleConnector==0.2.0) (2.0.4)\n",
      "Requirement already satisfied: idna<4,>=2.5 in c:\\users\\jsaul\\anaconda3\\lib\\site-packages (from requests<3.0.0.dev0,>=2.18.0->google-api-core!=2.0.*,!=2.1.*,!=2.2.*,!=2.3.0,<3.0.0.dev0,>=1.31.5->google-api-python-client>=2.0.0->GDPGoogleConnector==0.2.0) (3.3)\n",
      "Requirement already satisfied: urllib3<3,>=1.21.1 in c:\\users\\jsaul\\anaconda3\\lib\\site-packages (from requests<3.0.0.dev0,>=2.18.0->google-api-core!=2.0.*,!=2.1.*,!=2.2.*,!=2.3.0,<3.0.0.dev0,>=1.31.5->google-api-python-client>=2.0.0->GDPGoogleConnector==0.2.0) (1.26.11)\n",
      "Requirement already satisfied: certifi>=2017.4.17 in c:\\users\\jsaul\\anaconda3\\lib\\site-packages (from requests<3.0.0.dev0,>=2.18.0->google-api-core!=2.0.*,!=2.1.*,!=2.2.*,!=2.3.0,<3.0.0.dev0,>=1.31.5->google-api-python-client>=2.0.0->GDPGoogleConnector==0.2.0) (2022.9.14)\n",
      "Building wheels for collected packages: GDPGoogleConnector\n",
      "  Building wheel for GDPGoogleConnector (setup.py): started\n",
      "  Building wheel for GDPGoogleConnector (setup.py): finished with status 'done'\n",
      "  Created wheel for GDPGoogleConnector: filename=GDPGoogleConnector-0.2.0-py3-none-any.whl size=6222 sha256=407234a1b64fe41970c531c02aba34dbc43ac898ce780c96d0bc5317f80f1d61\n",
      "  Stored in directory: c:\\users\\jsaul\\appdata\\local\\pip\\cache\\wheels\\91\\15\\89\\46f348b93113567936b179d28d0b37f141bf0b3c660ce9ba7c\n",
      "Successfully built GDPGoogleConnector\n",
      "Installing collected packages: GDPGoogleConnector\n",
      "  Attempting uninstall: GDPGoogleConnector\n",
      "    Found existing installation: GDPGoogleConnector 0.2.0\n",
      "    Uninstalling GDPGoogleConnector-0.2.0:\n",
      "      Successfully uninstalled GDPGoogleConnector-0.2.0\n",
      "Successfully installed GDPGoogleConnector-0.2.0\n",
      "Note: you may need to restart the kernel to use updated packages.\n"
     ]
    },
    {
     "name": "stderr",
     "output_type": "stream",
     "text": [
      "WARNING: Ignoring invalid distribution -yrsistent (c:\\users\\jsaul\\anaconda3\\lib\\site-packages)\n",
      "WARNING: Ignoring invalid distribution -tatsmodels (c:\\users\\jsaul\\anaconda3\\lib\\site-packages)\n",
      "WARNING: Ignoring invalid distribution -yrsistent (c:\\users\\jsaul\\anaconda3\\lib\\site-packages)\n",
      "WARNING: Ignoring invalid distribution -tatsmodels (c:\\users\\jsaul\\anaconda3\\lib\\site-packages)\n",
      "WARNING: Ignoring invalid distribution -yrsistent (c:\\users\\jsaul\\anaconda3\\lib\\site-packages)\n",
      "WARNING: Ignoring invalid distribution -tatsmodels (c:\\users\\jsaul\\anaconda3\\lib\\site-packages)\n",
      "    WARNING: Ignoring invalid distribution -yrsistent (c:\\users\\jsaul\\anaconda3\\lib\\site-packages)\n",
      "    WARNING: Ignoring invalid distribution -tatsmodels (c:\\users\\jsaul\\anaconda3\\lib\\site-packages)\n",
      "WARNING: Ignoring invalid distribution -yrsistent (c:\\users\\jsaul\\anaconda3\\lib\\site-packages)\n",
      "WARNING: Ignoring invalid distribution -tatsmodels (c:\\users\\jsaul\\anaconda3\\lib\\site-packages)\n",
      "WARNING: Ignoring invalid distribution -yrsistent (c:\\users\\jsaul\\anaconda3\\lib\\site-packages)\n",
      "WARNING: Ignoring invalid distribution -tatsmodels (c:\\users\\jsaul\\anaconda3\\lib\\site-packages)\n",
      "WARNING: Ignoring invalid distribution -yrsistent (c:\\users\\jsaul\\anaconda3\\lib\\site-packages)\n",
      "WARNING: Ignoring invalid distribution -tatsmodels (c:\\users\\jsaul\\anaconda3\\lib\\site-packages)\n",
      "WARNING: Ignoring invalid distribution -yrsistent (c:\\users\\jsaul\\anaconda3\\lib\\site-packages)\n",
      "WARNING: Ignoring invalid distribution -tatsmodels (c:\\users\\jsaul\\anaconda3\\lib\\site-packages)\n"
     ]
    }
   ],
   "source": [
    "pip install --upgrade ."
   ]
  },
  {
   "cell_type": "code",
   "execution_count": null,
   "id": "90992c83-e500-4dc7-93f5-c7a4d77a41b0",
   "metadata": {},
   "outputs": [],
   "source": []
  },
  {
   "cell_type": "code",
   "execution_count": null,
   "id": "54632423-4465-4e5d-a34e-72acc386bac4",
   "metadata": {},
   "outputs": [],
   "source": []
  },
  {
   "cell_type": "code",
   "execution_count": null,
   "id": "012962d0-4454-4782-a755-b3a581038a77",
   "metadata": {},
   "outputs": [],
   "source": []
  },
  {
   "cell_type": "code",
   "execution_count": null,
   "id": "b20f770e-1456-4129-9217-0186320114f2",
   "metadata": {},
   "outputs": [],
   "source": []
  },
  {
   "cell_type": "code",
   "execution_count": null,
   "id": "2726e3b8-299f-4b2c-82d3-273f86c7178d",
   "metadata": {},
   "outputs": [],
   "source": [
    "from GDPGoogleConnector import GoogleConnector"
   ]
  },
  {
   "cell_type": "code",
   "execution_count": null,
   "id": "c04d46c1-a1b2-48f5-95ca-903ae8ce2e39",
   "metadata": {},
   "outputs": [],
   "source": []
  }
 ],
 "metadata": {
  "kernelspec": {
   "display_name": "Python 3 (ipykernel)",
   "language": "python",
   "name": "python3"
  },
  "language_info": {
   "codemirror_mode": {
    "name": "ipython",
    "version": 3
   },
   "file_extension": ".py",
   "mimetype": "text/x-python",
   "name": "python",
   "nbconvert_exporter": "python",
   "pygments_lexer": "ipython3",
   "version": "3.9.13"
  }
 },
 "nbformat": 4,
 "nbformat_minor": 5
}
